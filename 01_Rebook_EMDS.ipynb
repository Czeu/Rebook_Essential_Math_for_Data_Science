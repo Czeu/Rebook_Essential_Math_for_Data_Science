{
  "nbformat": 4,
  "nbformat_minor": 0,
  "metadata": {
    "colab": {
      "name": "01_Rebook_EMDS.ipynb",
      "provenance": [],
      "collapsed_sections": [],
      "authorship_tag": "ABX9TyPGmRLZbdFymTxbJXIqW0LG",
      "include_colab_link": true
    },
    "kernelspec": {
      "name": "python3",
      "display_name": "Python 3"
    },
    "language_info": {
      "name": "python"
    }
  },
  "cells": [
    {
      "cell_type": "markdown",
      "metadata": {
        "id": "view-in-github",
        "colab_type": "text"
      },
      "source": [
        "<a href=\"https://colab.research.google.com/github/Czeu/Rebook_Essential_Math_for_Data_Science/blob/main/01_Rebook_EMDS.ipynb\" target=\"_parent\"><img src=\"https://colab.research.google.com/assets/colab-badge.svg\" alt=\"Open In Colab\"/></a>"
      ]
    },
    {
      "cell_type": "markdown",
      "source": [
        "**Rebook del capítulo 1 de \"Essential Math for Data Science**\n",
        "\n",
        "También disponible en *notion*: [Chapter 1. Basic Math and Calculus Review](https://candied-submarine-cf4.notion.site/Chapter-1-Basic-Math-and-Calculus-Review-c3378f3c08654a4490ef78ef4abdfd2c)"
      ],
      "metadata": {
        "id": "qmoz46lS667s"
      }
    },
    {
      "cell_type": "markdown",
      "source": [
        "—Prefacio\n",
        "\n",
        "- ¿Qué es Python?\n",
        "    \n",
        "    \n",
        "- ¿Tienes experiencia programando en Python?"
      ],
      "metadata": {
        "id": "TMf4aiFT5D-f"
      }
    },
    {
      "cell_type": "markdown",
      "source": [
        "—Teoría de números\n",
        "\n",
        "- ¿Qué es un número?\n",
        "- ¿Qué es la teoría de números?\n",
        "- ¿Qué es un número natural?\n",
        "- ¿Qué es un número entero?\n",
        "- ¿Qué es un número racional?\n",
        "- ¿Qué es un número irracional?\n",
        "- ¿Cuáles son los números reales?\n",
        "- ¿Cuáles son los números complejos?\n",
        "- ¿Por qué otro nombre se les conoce a los números complejos?\n",
        "     "
      ],
      "metadata": {
        "id": "4k9MNW605Uoo"
      }
    },
    {
      "cell_type": "markdown",
      "source": [
        "—Orden operacional\n",
        "\n",
        "- ¿Qué es el orden operacional?\n",
        "- ¿Es lo mismo que la jerarquía operacional?\n",
        "- ¿Cuál es el orden en que se ejecutan las operaciones?\n",
        "- ¿Qué significa la mnemotecnia PEMDAS?\n",
        "- ¿Puedes realizar operaciones matemáticas con Python como si fuera una calculadora?\n",
        "- ¿Los paréntesis hacen más claras las operaciones?"
      ],
      "metadata": {
        "id": "sUnAMt_t5tFN"
      }
    },
    {
      "cell_type": "markdown",
      "source": [
        "— Variables\n",
        "\n",
        "- ¿Qué son las variables en Python?\n",
        "- ¿Cómo se crean las variables?\n",
        "- ¿Cuáles son las reglas para nombrar variables?"
      ],
      "metadata": {
        "id": "GtQNSnSQ5xTq"
      }
    },
    {
      "cell_type": "markdown",
      "source": [
        "—Funciones\n",
        "\n",
        "- ¿Qué son las funciones?\n",
        "    \n",
        "    Son expresiones que definen relaciones entre dos o más variables\n",
        "    \n",
        "- ¿Qué son las variables de entrada (input variables)?\n",
        "- ¿De qué otras formas se le conocen a las variables de entrada?\n",
        "    \n",
        "    Variables del dominio o variables independientes.\n",
        "    \n",
        "- ¿Qué son las variables de salida?\n",
        "- ¿De qué otra formas se le conocen a las variables de salida?\n",
        "    \n",
        "    Variables dependientes\n",
        "    \n",
        "- ¿Algún ejemplo de una función?\n",
        "- ¿Cómo la declararías en Python?\n",
        "    \n",
        "    ```python\n",
        "    def f(x): \n",
        "    \treturn 2 * x + 1\n",
        "    ```\n",
        "    \n",
        "- ¿Cuántos valores diferentes de salida se pueden obtener en una función?\n",
        "- ¿Qué es una función continua?\n",
        "- ¿Qué es una función discreta?\n",
        "- ¿Cómo se puede visualizar una función de una variable?\n",
        "- ¿Qué es el plano Cartesiano?\n",
        "- ¿De qué maneras se le conoce al plano Cartesiano?\n",
        "- ¿Cómo podemos graficar el plano Cartesiano en Python?\n",
        "- ¿Cuáles librerías de Python conoces para graficar?\n",
        "    \n",
        "    Existen muchas librerías, como Plotly, matplotlib y SymPy \n",
        "    \n",
        "- ¿Conoces la librería SymPy?\n",
        "- ¿Cómo se importa una librería en Python?\n",
        "    \n",
        "    ```python\n",
        "    from librería import *\n",
        "    # El asterisco indica que se importará todo\n",
        "    ```\n",
        "    \n",
        "- ¿Cómo se crea una variable usando SymPy?\n",
        "    \n",
        "    ```python\n",
        "    x = symbols('x')\n",
        "    # Para más variables sería:\n",
        "    x, y, z = symbols('x y z')\n",
        "    ```\n",
        "    \n",
        "- ¿Cómo se crea una función de una variable usando SymPy?\n",
        "    \n",
        "    ```python\n",
        "    \n",
        "    # Se declaran las variables\n",
        "    x = symbols('x') \n",
        "    # Se crea la función usando el símbolo \"=\"\n",
        "    f = 2*x + 1 \n",
        "    \n",
        "    ```\n",
        "    \n",
        "- ¿Cómo se grafica una función usando SymPy?\n",
        "    \n",
        "    ```python\n",
        "    x = symbols('x') \n",
        "    f = x**2 + 1 \n",
        "    plot(f)\n",
        "    ```\n",
        "    \n",
        "- ¿Cómo se crea una función de múltiples variables usando SymPy?\n",
        "    \n",
        "    ```python\n",
        "    x, y = symbols('x y') \n",
        "    f = 2*x + 3*y\n",
        "    ```\n",
        "    \n",
        "- ¿Cuál es una forma de graficar una función de múltiples variables?\n",
        "    \n",
        "    ```python\n",
        "    # Se puede usar plot3d\n",
        "    from sympy import * \n",
        "    from sympy.plotting import plot3d\n",
        "    \n",
        "    x, y = symbols('x y') \n",
        "    f = 2*x + 3*y \n",
        "    plot3d(f)\n",
        "    ```\n",
        "    \n",
        "- ¿Cuántas variables independientes puede tener?\n",
        "- ¿Cuántas variables dependientes puede tener?"
      ],
      "metadata": {
        "id": "UntrbrSx6y8c"
      }
    }
  ]
}